{
 "cells": [
  {
   "cell_type": "markdown",
   "metadata": {},
   "source": [
    "# Search Engine\n",
    "\n",
    "This lab is about consolidation, which is to say there is nothing here that you haven't done/seen before. The difficulty is that no code has been provided, so you need to solve the problem from scratch (this is why you have an extra week).\n",
    "\n",
    "A specification for the program you are to implement is given below - do pay attention as misunderstandings may cost you marks! However, at a high level you are to code a search engine for recipes - a data set has been provided. The search engine is to be pretty basic, returning all recipes that contain all of the provided keywords. However, the user can choose from a number of orderings depending on their food preferences, which you need to support."
   ]
  },
  {
   "cell_type": "markdown",
   "metadata": {},
   "source": [
    "## Marking and Submission\n",
    "\n",
    "These lab exercises are marked, and contribute to your final grade. This lab exercise has 20 marks to earn, equivalent to __10%__ of your final grade.\n",
    "\n",
    "Please submit your completed workbook using Moodle before 5pm on Friday 9th November 2018. The workbook you submit must be an .ipynb file, which is saved into the directory you're running Jupyter; alternatively you can download it from the menu above using `File -> Download As -> Notebook (.ipynb)`. Remember to save your work regularly (`Save and checkpoint` in the `File` menu, the icon of a floppy disk, or `Ctrl-S`); the version you submit should have all code blocks showing the results (if any) of execution below them. You will normally receive feedback within a week.\n",
    "\n",
    "You must comply with the universities plagiarism guidelines: http://www.bath.ac.uk/library/help/infoguides/plagiarism.html"
   ]
  },
  {
   "cell_type": "markdown",
   "metadata": {},
   "source": [
    "## Specification\n",
    "\n",
    "The system must provide a function ``search``, with the following specification:\n",
    "```\n",
    "def search(query, ordering = 'normal'):\n",
    "  ...\n",
    "```\n",
    "\n",
    "It `print`s out the results of the search, subject to the following rules:\n",
    "1. It selects from the set of all articles that contain all of the words in the query (the positions/order of the words in the recipe are to be ignored).\n",
    "2. It orders them based on the provided ordering (a string, meaning defined below).\n",
    "3. It `print`s the top 10 only, preserving the order (just their title, one per line).\n",
    "\n",
    "As an aside, do not worry about memory usage. If duplicating some data can make your code faster/neater then feel free.\n",
    "\n",
    "### Search\n",
    "\n",
    "The search should check the following parts of the recipe (see data set description below):\n",
    "* `title`\n",
    "* `categories`\n",
    "* `ingredients`\n",
    "* `directions`\n",
    "\n",
    "For instance, given the query \"banana cheese\" you would expect \"Banana Layer Cake with Cream Cheese Frosting\" in the results. Note that case is to be ignored (\"banana\" matches \"Banana\") and the words __do not__ have to be next to one another, or in the same order as the search query.\n",
    "\n",
    "### Ordering\n",
    "\n",
    "There are three ordering modes to select from, each indicated by passing a string to the `search` function:\n",
    "* `normal` - Based simply on the number of times the search terms appear in the recipe. A score is calculated and the order is highest to lowest. The score sums the following terms:\n",
    "    * $8 \\times$ Number of times a query word appears in the title\n",
    "    * $4 \\times$ Number of times a query word appears in the categories\n",
    "    * $2 \\times$ Number of times a query word appears in the ingredients\n",
    "    * $1 \\times$ Number of times a query word appears in the directions\n",
    "    * The `rating` of the recipe (if not available assume $0$).\n",
    "\n",
    "* `simple` - Tries to minimise the complexity of the recipe, for someone who is in a rush. Orders to minimise the number of ingredients multiplied by the numbers of steps in the instructions.\n",
    "\n",
    "* `healthy` - Order from lowest to highest by this cost function:\n",
    "$$\\frac{|\\texttt{calories} - 510n|}{510} + 2\\frac{|\\texttt{protein} - 18n|}{18} + 4\\frac{|\\texttt{fat} - 150n|}{150}$$\n",
    "Where $n \\in \\mathbb{N}^+$ is selected to minimise the cost ($n$ is a positive integer and $n=0$ is not allowed). This can be understood in terms of the numbers $510$, $18$ and $150$ being a third of the recommended daily intake (three meals per day) for an average person, and $n$ being the number of whole meals the person gets out of cooking/making the recipe. So this tries to select recipes that neatly divide into a set of meals that are the right amount to consume for a healthy, balanced diet.\n",
    "\n",
    "To clarify the use of the string, to get something healthy that contains cheese you might call `search('cheese', 'healthy')`. In the case of a recipe that is missing information required for the ordering in the case of `normal` it should simply be treated as having no matches. But in the case of `simple` and `healthy` that recipe should be dropped entirely, and not returned from such searches.\n",
    "\n",
    "### Data Set\n",
    "\n",
    "A file, `recipes.json` is provided, containing 20K recipes. It can be parsed into a Python data structure using the `json` module. It is a list, where each recipe is a dictionary containing many keys; you only need to make use of the following: (there are a few others)\n",
    "* `title` : Name of recipe.\n",
    "* `categories` : A list of tags assigned to the recipe.\n",
    "* `ingredients` : What is in it, as a list. Includes quantities.\n",
    "* `directions` : List of steps to make the recipe.\n",
    "* `rating` : A rating, out of 5, of how good it is.\n",
    "* `calories` : How many calories it has.\n",
    "* `protein` : How much protein is in it.\n",
    "* `fat` : How much fat is in it.\n",
    "\n",
    "Note that the data set was obtained via web scrapping and hence is noisy - every key in the dictionary provided for each recipe is missing at least once. Your code will need to cope with this. Ignore any recipe that has no title.\n",
    "\n",
    "You will probably want to explore the data before starting, so you have an idea of what your code has to deal with.\n",
    "\n",
    "Data set origin: https://www.kaggle.com/hugodarwood/epirecipes/version/2\n"
   ]
  },
  {
   "cell_type": "markdown",
   "metadata": {},
   "source": [
    "## Glossary\n",
    "\n",
    "Often the challenge when programming is just to know what an algorithm is called, so you can Google it. Here are two terms you may want to know:\n",
    "\n",
    "* _Tokenisation_: This is the term for breaking a sentence into each individual word (token). Traditionally done using regular expressions, and Python does have the `re` module, but feel free to do something cruder (Regular expressions are painful the first few times, and have not been taught, so there are no marks for using them! May make your code neater however.).\n",
    "* _Inverted index_: A data structure used by search engines. For each word a user may search for this contains a list of all documents (recipes) that contain the word.\n"
   ]
  },
  {
   "cell_type": "markdown",
   "metadata": {},
   "source": [
    "## Advice\n",
    "\n",
    "* Don't just start coding - make a plan and work out what you intend to do.\n",
    "* Think about structure - messy code leads to mistakes.\n",
    "* Plan your data structures. Don't be afraid to use sheets of paper if that works for you!\n",
    "\n",
    "* Divide and conquer - break the system into parts that can implemented with minimal dependency on the rest.\n",
    "* Test early - Verify the individual parts work before trying to combine them. Factor this into the order you implement the parts of the system - don't implement something you are going to struggle to test before implementing, and verifying, other parts.\n",
    "* Do not try and do a 'big bang' - getting it all working at once. Instead, get it working with features missing, then add those features in one at a time.\n",
    "\n",
    "* Keep things as simple as possible. Avoid long functions/methods.\n",
    "* Include comments - For your own sanity, and to make sure you get the marks.\n",
    "* Regularly reset the kernel and rerun the entire workbook. It is very easy to break something but not notice, because the correct version remains in memory."
   ]
  },
  {
   "cell_type": "markdown",
   "metadata": {},
   "source": [
    "## Marks\n",
    "* __6 marks__: Search returns a list of all matched recipes\n",
    "* __6 marks__: Correct ordering of recipes for all ordering terms.\n",
    "* __4 marks__: Selection of efficient data structures and algorithms\n",
    "* __4 marks__: Well structured and commented code\n"
   ]
  },
  {
   "cell_type": "code",
   "execution_count": null,
   "metadata": {
    "scrolled": false
   },
   "outputs": [],
   "source": []
  }
 ],
 "metadata": {
  "kernelspec": {
   "display_name": "Python 3",
   "language": "python",
   "name": "python3"
  },
  "language_info": {
   "codemirror_mode": {
    "name": "ipython",
    "version": 3
   },
   "file_extension": ".py",
   "mimetype": "text/x-python",
   "name": "python",
   "nbconvert_exporter": "python",
   "pygments_lexer": "ipython3",
   "version": "3.4.3"
  }
 },
 "nbformat": 4,
 "nbformat_minor": 2
}
